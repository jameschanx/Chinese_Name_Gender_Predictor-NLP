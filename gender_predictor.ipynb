{
 "cells": [
  {
   "cell_type": "code",
   "execution_count": 110,
   "metadata": {},
   "outputs": [],
   "source": [
    "from xpinyin import Pinyin\n",
    "import pandas as pd\n",
    "from keras.layers import LSTM\n",
    "from keras.models import Sequential\n",
    "import numpy as np"
   ]
  },
  {
   "cell_type": "code",
   "execution_count": 100,
   "metadata": {},
   "outputs": [],
   "source": [
    "p = Pinyin()\n",
    "df = pd.read_csv('ChineseNames.csv')"
   ]
  },
  {
   "cell_type": "code",
   "execution_count": 101,
   "metadata": {},
   "outputs": [],
   "source": [
    "#change headers to english\n",
    "df.columns = ['Name', 'Gender']"
   ]
  },
  {
   "cell_type": "code",
   "execution_count": 102,
   "metadata": {
    "collapsed": true
   },
   "outputs": [],
   "source": [
    "#strip last name\n",
    "def strip_last_name(name):\n",
    "    return name[1:]\n",
    "\n",
    "def convert_to_pinyin(name):\n",
    "    return p.get_pinyin(name)\n",
    "\n",
    "def process_name(name):\n",
    "    name = strip_last_name(name)\n",
    "    name = convert_to_pinyin(name)\n",
    "    return name"
   ]
  },
  {
   "cell_type": "code",
   "execution_count": 103,
   "metadata": {},
   "outputs": [
    {
     "name": "stdout",
     "output_type": "stream",
     "text": [
      "     Name Gender\n",
      "9777   邹敏      F\n",
      "9778  邹泞憶      F\n",
      "9779  邹莎莎      F\n",
      "9780  邹苇航      F\n",
      "9781  邹雪飞      F\n",
      "9782  邹雅文      F\n",
      "9783  邹颜鞠      F\n",
      "9784  邹一鑫      F\n",
      "9785  邹逸宁      F\n",
      "9786   邹莹      F\n",
      "9787  邹滢曼      F\n",
      "9788  邹雨宏      F\n",
      "9789  邹雨寰      F\n",
      "9790  邹玉洁      F\n",
      "9791   左曈      F\n",
      "9792  左婉怡      F\n",
      "9793  左烜晅      F\n",
      "9794  左雨晴      F\n",
      "9795   左越      F\n",
      "9796  左子烨      F\n",
      "           Name Gender\n",
      "9777        min      F\n",
      "9778    ning-yi      F\n",
      "9779    sha-sha      F\n",
      "9780   wei-hang      F\n",
      "9781    xue-fei      F\n",
      "9782     ya-wen      F\n",
      "9783     yan-ju      F\n",
      "9784     yi-xin      F\n",
      "9785    yi-ning      F\n",
      "9786       ying      F\n",
      "9787   ying-man      F\n",
      "9788    yu-hong      F\n",
      "9789    yu-huan      F\n",
      "9790      yu-ji      F\n",
      "9791       tong      F\n",
      "9792     wan-yi      F\n",
      "9793  xuan-xuan      F\n",
      "9794    yu-qing      F\n",
      "9795        yue      F\n",
      "9796      zi-ye      F\n"
     ]
    }
   ],
   "source": [
    "#visualize before after processing\n",
    "print(df.tail(5))\n",
    "df['Name'] = df['Name'].apply(process_name)\n",
    "print(df.tail(5))"
   ]
  },
  {
   "cell_type": "code",
   "execution_count": 104,
   "metadata": {},
   "outputs": [],
   "source": [
    "#get all unique chars\n",
    "characters = {}\n",
    "for i, name in enumerate(df['Name']):\n",
    "    for char in name:\n",
    "        if char in characters:\n",
    "            characters[char] += 1\n",
    "        else:\n",
    "            characters[char] = 1"
   ]
  },
  {
   "cell_type": "code",
   "execution_count": 105,
   "metadata": {},
   "outputs": [],
   "source": [
    "#find the longest name\n",
    "maxlen = df['Name'].str.len().max()"
   ]
  },
  {
   "cell_type": "code",
   "execution_count": 106,
   "metadata": {},
   "outputs": [],
   "source": [
    "#create mapping.  though it would be nice if they mapping is alphabetically ordered, but it doesn't matter mathematically.\n",
    "idx = 0\n",
    "for c in characters.keys():\n",
    "    characters[c] = idx\n",
    "    idx += 1"
   ]
  },
  {
   "cell_type": "code",
   "execution_count": 210,
   "metadata": {},
   "outputs": [],
   "source": [
    "#create training example of dimension (example #, timestep, # of features (length of 1-hot vector))\n",
    "num_examples = df.shape[0]\n",
    "time_steps = maxlen\n",
    "num_features = len(characters)\n",
    "def char_to_vec(char):\n",
    "    vector = np.zeros((1, num_features), dtype=int)\n",
    "    idx = characters[char]\n",
    "    vector[0,idx] = 1\n",
    "    return vector\n",
    "\n",
    "def name_to_vec(name):\n",
    "    example = np.zeros((maxlen, num_features), dtype = int)\n",
    "    for i in range(maxlen):\n",
    "        if i < len(name):\n",
    "            char = name[i]\n",
    "            vector = char_to_vec(char)\n",
    "            example[i,:] = vector[0,:]\n",
    "        else:\n",
    "            example[i,:] = np.zeros((num_features),dtype=int)\n",
    "    return example"
   ]
  },
  {
   "cell_type": "code",
   "execution_count": 259,
   "metadata": {},
   "outputs": [],
   "source": [
    "#convert all examples to vector format\n",
    "X = np.empty((df.shape[0], maxlen, num_features))\n",
    "for i, name in enumerate(df['Name']):\n",
    "    example = name_to_vec(name)\n",
    "    X[i,:,:] = example"
   ]
  },
  {
   "cell_type": "code",
   "execution_count": 266,
   "metadata": {
    "collapsed": true
   },
   "outputs": [],
   "source": [
    "Y = df['Gender'].values\n",
    "Y[Y == 'M'] = 1\n",
    "Y[Y == 'F'] = 0"
   ]
  },
  {
   "cell_type": "code",
   "execution_count": 269,
   "metadata": {},
   "outputs": [],
   "source": [
    "model = Sequential()\n",
    "model.add(LSTM(1, input_shape=(maxlen, num_features), return_sequences=False))\n",
    "model.compile(loss='binary_crossentropy', optimizer='adam', metrics=['accuracy'])"
   ]
  },
  {
   "cell_type": "code",
   "execution_count": 270,
   "metadata": {},
   "outputs": [
    {
     "name": "stdout",
     "output_type": "stream",
     "text": [
      "Epoch 1/10\n",
      "9797/9797 [==============================] - 4s 382us/step - loss: 1.7560 - acc: 0.5001\n",
      "Epoch 2/10\n",
      "9797/9797 [==============================] - 3s 282us/step - loss: 0.8483 - acc: 0.5124\n",
      "Epoch 3/10\n",
      "9797/9797 [==============================] - 3s 288us/step - loss: 0.6815 - acc: 0.5708\n",
      "Epoch 4/10\n",
      "9797/9797 [==============================] - 3s 291us/step - loss: 0.6761 - acc: 0.5852\n",
      "Epoch 5/10\n",
      "9797/9797 [==============================] - 3s 297us/step - loss: 0.6700 - acc: 0.6006\n",
      "Epoch 6/10\n",
      "9797/9797 [==============================] - 3s 304us/step - loss: 0.6643 - acc: 0.6080\n",
      "Epoch 7/10\n",
      "9797/9797 [==============================] - 3s 305us/step - loss: 0.6599 - acc: 0.6168\n",
      "Epoch 8/10\n",
      "9797/9797 [==============================] - 3s 303us/step - loss: 0.6565 - acc: 0.6170\n",
      "Epoch 9/10\n",
      "9797/9797 [==============================] - 3s 306us/step - loss: 0.6537 - acc: 0.6217\n",
      "Epoch 10/10\n",
      "9797/9797 [==============================] - 3s 308us/step - loss: 0.6507 - acc: 0.6243\n"
     ]
    },
    {
     "data": {
      "text/plain": [
       "<keras.callbacks.History at 0x27a4bcfacf8>"
      ]
     },
     "execution_count": 270,
     "metadata": {},
     "output_type": "execute_result"
    }
   ],
   "source": [
    "model.fit(X,Y, batch_size=32, epochs=10, verbose=True)"
   ]
  },
  {
   "cell_type": "code",
   "execution_count": 280,
   "metadata": {},
   "outputs": [
    {
     "data": {
      "text/plain": [
       "array([[1]])"
      ]
     },
     "execution_count": 280,
     "metadata": {},
     "output_type": "execute_result"
    }
   ],
   "source": [
    "model.predict_classes(np.expand_dims(name_to_vec('chu'), 0))"
   ]
  },
  {
   "cell_type": "code",
   "execution_count": null,
   "metadata": {
    "collapsed": true
   },
   "outputs": [],
   "source": []
  }
 ],
 "metadata": {
  "kernelspec": {
   "display_name": "Python 3",
   "language": "python",
   "name": "python3"
  },
  "language_info": {
   "codemirror_mode": {
    "name": "ipython",
    "version": 3
   },
   "file_extension": ".py",
   "mimetype": "text/x-python",
   "name": "python",
   "nbconvert_exporter": "python",
   "pygments_lexer": "ipython3",
   "version": "3.6.6"
  }
 },
 "nbformat": 4,
 "nbformat_minor": 2
}
